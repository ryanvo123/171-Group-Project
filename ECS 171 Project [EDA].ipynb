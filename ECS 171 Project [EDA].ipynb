{
 "cells": [
  {
   "cell_type": "code",
   "execution_count": 2,
   "id": "saving-connecticut",
   "metadata": {},
   "outputs": [],
   "source": [
    "#Import of libraries required for visualization, outlier detection, and other components of EDA\n",
    "import pandas as pd\n",
    "import numpy as np\n",
    "import seaborn as sb\n",
    "import matplotlib as mp\n",
    "\n",
    "import sklearn\n",
    "from sklearn.svm import OneClassSVM\n",
    "from sklearn.model_selection import train_test_split\n",
    "from sklearn.metrics import classification_report, mean_squared_error"
   ]
  },
  {
   "cell_type": "code",
   "execution_count": 5,
   "id": "smart-location",
   "metadata": {},
   "outputs": [
    {
     "name": "stdout",
     "output_type": "stream",
     "text": [
      "File 1 complete\n",
      "File 2 complete\n",
      "File 3 complete\n",
      "File 4 complete\n"
     ]
    }
   ],
   "source": [
    "#Read in data from separate text files into individual dataframes\n",
    "raw_dat_1 = pd.read_fwf('combined_data_1.txt', names=[\"MovieIDs\"])\n",
    "raw_dat_2 = pd.read_fwf('combined_data_2.txt', names=[\"MovieIDs\"])\n",
    "raw_dat_3 = pd.read_fwf('combined_data_3.txt', names=[\"MovieIDs\"])\n",
    "raw_dat_4 = pd.read_fwf('combined_data_4.txt', names=[\"MovieIDs\"])\n",
    "\n",
    "\n",
    "#Due to the large size of the data, chunking method was used to process each dataframe separately before aggregating\n",
    "\n",
    "#Process: Split data in each dataframe and explode into separate columns, Populate Movie IDs for each \n",
    "#of the Customer IDs using forward filling and then Clean Movie ID data before aggregating into single dataframe\n",
    "\n",
    "raw_dat_1[['CustomerIDs', 'Rating','Date Watched']] = raw_dat_1['MovieIDs'].str.split(',', expand=True)\n",
    "raw_dat_1.loc[raw_dat_1['MovieIDs'].str.contains(','),'MovieIDs'] = None\n",
    "raw_dat_1['MovieIDs'] = raw_dat_1['MovieIDs'].ffill()\n",
    "raw_dat_1 = raw_dat_1.dropna(subset = ['Date Watched'])\n",
    "raw_dat_1[\"MovieIDs\"] = raw_dat_1[\"MovieIDs\"].str.strip(':')\n",
    "\n",
    "print(\"File 1 complete\")\n",
    "\n",
    "raw_dat_2[['CustomerIDs', 'Rating','Date Watched']] = raw_dat_2['MovieIDs'].str.split(',', expand=True)\n",
    "raw_dat_2.loc[raw_dat_2['MovieIDs'].str.contains(','),'MovieIDs'] = None\n",
    "raw_dat_2['MovieIDs'] = raw_dat_2['MovieIDs'].ffill()\n",
    "raw_dat_2 = raw_dat_2.dropna(subset = ['Date Watched'])\n",
    "raw_dat_2[\"MovieIDs\"] = raw_dat_2[\"MovieIDs\"].str.strip(':')\n",
    "\n",
    "print(\"File 2 complete\")\n",
    "\n",
    "raw_dat_3[['CustomerIDs', 'Rating','Date Watched']] = raw_dat_3['MovieIDs'].str.split(',', expand=True)\n",
    "raw_dat_3.loc[raw_dat_3['MovieIDs'].str.contains(','),'MovieIDs'] = None\n",
    "raw_dat_3['MovieIDs'] = raw_dat_3['MovieIDs'].ffill()\n",
    "raw_dat_3 = raw_dat_3.dropna(subset = ['Date Watched'])\n",
    "raw_dat_3[\"MovieIDs\"] = raw_dat_3[\"MovieIDs\"].str.strip(':')\n",
    "\n",
    "print(\"File 3 complete\")\n",
    "\n",
    "raw_dat_4[['CustomerIDs', 'Rating','Date Watched']] = raw_dat_4['MovieIDs'].str.split(',', expand=True)\n",
    "raw_dat_4.loc[raw_dat_4['MovieIDs'].str.contains(','),'MovieIDs'] = None\n",
    "raw_dat_4['MovieIDs'] = raw_dat_4['MovieIDs'].ffill()\n",
    "raw_dat_4 = raw_dat_4.dropna(subset = ['Date Watched'])\n",
    "raw_dat_4[\"MovieIDs\"] = raw_dat_4[\"MovieIDs\"].str.strip(':')\n",
    "\n",
    "print(\"File 4 complete\")"
   ]
  },
  {
   "cell_type": "code",
   "execution_count": 7,
   "id": "mounted-anderson",
   "metadata": {},
   "outputs": [
    {
     "name": "stdout",
     "output_type": "stream",
     "text": [
      "<class 'pandas.core.frame.DataFrame'>\n",
      "Int64Index: 100480507 entries, 1 to 26851925\n",
      "Data columns (total 4 columns):\n",
      " #   Column        Dtype \n",
      "---  ------        ----- \n",
      " 0   MovieIDs      object\n",
      " 1   CustomerIDs   object\n",
      " 2   Rating        object\n",
      " 3   Date Watched  object\n",
      "dtypes: object(4)\n",
      "memory usage: 3.7+ GB\n"
     ]
    }
   ],
   "source": [
    "nflx_raw_data = pd.concat([raw_dat_1, raw_dat_2, raw_dat_3, raw_dat_4], axis=0)\n",
    "nflx_raw_data.info()"
   ]
  },
  {
   "cell_type": "code",
   "execution_count": 8,
   "id": "public-popularity",
   "metadata": {},
   "outputs": [
    {
     "data": {
      "text/html": [
       "<div>\n",
       "<style scoped>\n",
       "    .dataframe tbody tr th:only-of-type {\n",
       "        vertical-align: middle;\n",
       "    }\n",
       "\n",
       "    .dataframe tbody tr th {\n",
       "        vertical-align: top;\n",
       "    }\n",
       "\n",
       "    .dataframe thead th {\n",
       "        text-align: right;\n",
       "    }\n",
       "</style>\n",
       "<table border=\"1\" class=\"dataframe\">\n",
       "  <thead>\n",
       "    <tr style=\"text-align: right;\">\n",
       "      <th></th>\n",
       "      <th>MovieIDs</th>\n",
       "      <th>CustomerIDs</th>\n",
       "      <th>Rating</th>\n",
       "      <th>Date Watched</th>\n",
       "    </tr>\n",
       "  </thead>\n",
       "  <tbody>\n",
       "    <tr>\n",
       "      <th>1</th>\n",
       "      <td>1</td>\n",
       "      <td>1488844</td>\n",
       "      <td>3</td>\n",
       "      <td>2005-09-06</td>\n",
       "    </tr>\n",
       "    <tr>\n",
       "      <th>2</th>\n",
       "      <td>1</td>\n",
       "      <td>822109</td>\n",
       "      <td>5</td>\n",
       "      <td>2005-05-13</td>\n",
       "    </tr>\n",
       "    <tr>\n",
       "      <th>3</th>\n",
       "      <td>1</td>\n",
       "      <td>885013</td>\n",
       "      <td>4</td>\n",
       "      <td>2005-10-19</td>\n",
       "    </tr>\n",
       "    <tr>\n",
       "      <th>4</th>\n",
       "      <td>1</td>\n",
       "      <td>30878</td>\n",
       "      <td>4</td>\n",
       "      <td>2005-12-26</td>\n",
       "    </tr>\n",
       "    <tr>\n",
       "      <th>5</th>\n",
       "      <td>1</td>\n",
       "      <td>823519</td>\n",
       "      <td>3</td>\n",
       "      <td>2004-05-03</td>\n",
       "    </tr>\n",
       "  </tbody>\n",
       "</table>\n",
       "</div>"
      ],
      "text/plain": [
       "  MovieIDs CustomerIDs Rating Date Watched\n",
       "1        1     1488844      3   2005-09-06\n",
       "2        1      822109      5   2005-05-13\n",
       "3        1      885013      4   2005-10-19\n",
       "4        1       30878      4   2005-12-26\n",
       "5        1      823519      3   2004-05-03"
      ]
     },
     "execution_count": 8,
     "metadata": {},
     "output_type": "execute_result"
    }
   ],
   "source": [
    "nflx_raw_data.head()"
   ]
  },
  {
   "cell_type": "code",
   "execution_count": 10,
   "id": "radical-tactics",
   "metadata": {},
   "outputs": [
    {
     "data": {
      "text/plain": [
       "True"
      ]
     },
     "execution_count": 10,
     "metadata": {},
     "output_type": "execute_result"
    }
   ],
   "source": [
    "#nflx_raw_data['CustomerIDs'].duplicated().any()"
   ]
  },
  {
   "cell_type": "code",
   "execution_count": 16,
   "id": "electoral-point",
   "metadata": {},
   "outputs": [
    {
     "data": {
      "text/html": [
       "<div>\n",
       "<style scoped>\n",
       "    .dataframe tbody tr th:only-of-type {\n",
       "        vertical-align: middle;\n",
       "    }\n",
       "\n",
       "    .dataframe tbody tr th {\n",
       "        vertical-align: top;\n",
       "    }\n",
       "\n",
       "    .dataframe thead th {\n",
       "        text-align: right;\n",
       "    }\n",
       "</style>\n",
       "<table border=\"1\" class=\"dataframe\">\n",
       "  <thead>\n",
       "    <tr style=\"text-align: right;\">\n",
       "      <th></th>\n",
       "      <th>MovieIDs</th>\n",
       "      <th>CustomerIDs</th>\n",
       "      <th>Rating</th>\n",
       "      <th>Date Watched</th>\n",
       "    </tr>\n",
       "  </thead>\n",
       "  <tbody>\n",
       "    <tr>\n",
       "      <th>0</th>\n",
       "      <td>1:</td>\n",
       "      <td>1:</td>\n",
       "      <td>None</td>\n",
       "      <td>None</td>\n",
       "    </tr>\n",
       "    <tr>\n",
       "      <th>1</th>\n",
       "      <td>1488844,3,2005-09-06</td>\n",
       "      <td>1488844</td>\n",
       "      <td>3</td>\n",
       "      <td>2005-09-06</td>\n",
       "    </tr>\n",
       "    <tr>\n",
       "      <th>2</th>\n",
       "      <td>822109,5,2005-05-13</td>\n",
       "      <td>822109</td>\n",
       "      <td>5</td>\n",
       "      <td>2005-05-13</td>\n",
       "    </tr>\n",
       "    <tr>\n",
       "      <th>3</th>\n",
       "      <td>885013,4,2005-10-19</td>\n",
       "      <td>885013</td>\n",
       "      <td>4</td>\n",
       "      <td>2005-10-19</td>\n",
       "    </tr>\n",
       "    <tr>\n",
       "      <th>4</th>\n",
       "      <td>30878,4,2005-12-26</td>\n",
       "      <td>30878</td>\n",
       "      <td>4</td>\n",
       "      <td>2005-12-26</td>\n",
       "    </tr>\n",
       "  </tbody>\n",
       "</table>\n",
       "</div>"
      ],
      "text/plain": [
       "               MovieIDs CustomerIDs Rating Date Watched\n",
       "0                    1:          1:   None         None\n",
       "1  1488844,3,2005-09-06     1488844      3   2005-09-06\n",
       "2   822109,5,2005-05-13      822109      5   2005-05-13\n",
       "3   885013,4,2005-10-19      885013      4   2005-10-19\n",
       "4    30878,4,2005-12-26       30878      4   2005-12-26"
      ]
     },
     "execution_count": 16,
     "metadata": {},
     "output_type": "execute_result"
    }
   ],
   "source": [
    "#test = nflx_raw_data.head()\n",
    "#test_column = test.drop(['CustomerIDs', 'Rating','Date Watched'], axis=1)\n",
    "#test_column[['CustomerIDs', 'Rating','Date Watched']] = test_column['MovieIDs'].str.split(',', expand=True)\n",
    "#test_column"
   ]
  }
 ],
 "metadata": {
  "kernelspec": {
   "display_name": "Python 3",
   "language": "python",
   "name": "python3"
  },
  "language_info": {
   "codemirror_mode": {
    "name": "ipython",
    "version": 3
   },
   "file_extension": ".py",
   "mimetype": "text/x-python",
   "name": "python",
   "nbconvert_exporter": "python",
   "pygments_lexer": "ipython3",
   "version": "3.7.4"
  }
 },
 "nbformat": 4,
 "nbformat_minor": 5
}
